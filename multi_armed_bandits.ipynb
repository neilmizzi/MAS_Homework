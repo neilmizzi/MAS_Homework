{
 "cells": [
  {
   "cell_type": "markdown",
   "metadata": {},
   "source": [
    "Imports"
   ]
  },
  {
   "cell_type": "code",
   "execution_count": 68,
   "metadata": {
    "pycharm": {
     "is_executing": false,
     "name": "#%%\n"
    }
   },
   "outputs": [],
   "source": [
    "import random\n",
    "import numpy as np\n",
    "import matplotlib.pyplot as plt\n",
    "sample_size = 10"
   ]
  },
  {
   "cell_type": "markdown",
   "metadata": {
    "pycharm": {
     "name": "#%% md\n"
    }
   },
   "source": [
    "# Rules:\n",
    "- If $\\alpha$ = $\\beta$ = 1 then we have uniform distribution\n",
    "- If $\\alpha$ = $\\beta$     then we have a symmetric distribution, where x = 1/2\n",
    "- If $\\alpha$ > $\\beta$     then the density is right-leaning (concentrated in the neighbourhood of 1) the mean and variance will be able to be computed explicitly"
   ]
  },
  {
   "cell_type": "markdown",
   "metadata": {
    "pycharm": {
     "name": "#%% md\n"
    }
   },
   "source": [
    "# Beta-density plots\n",
    "Property 1: $\\alpha = \\beta = 1$"
   ]
  },
  {
   "cell_type": "code",
   "execution_count": 69,
   "metadata": {
    "pycharm": {
     "is_executing": false,
     "name": "#%%\n"
    }
   },
   "outputs": [],
   "source": [
    "a1 = 1\n",
    "b1 = 1\n",
    "case_1 = [np.random.beta(a1, b1) for x in range(0, sample_size)]"
   ]
  },
  {
   "cell_type": "markdown",
   "metadata": {},
   "source": [
    "Property 2: $\\alpha = \\beta \\neq 1$"
   ]
  },
  {
   "cell_type": "code",
   "execution_count": 70,
   "metadata": {
    "pycharm": {
     "is_executing": false,
     "name": "#%%\n"
    }
   },
   "outputs": [],
   "source": [
    "r = random.random()\n",
    "while r == 1:\n",
    "    r = random.random()\n",
    "case_2 = [np.random.beta(r, r) for x in range(0, sample_size)]"
   ]
  },
  {
   "cell_type": "markdown",
   "metadata": {
    "pycharm": {
     "name": "#%% md\n"
    }
   },
   "source": [
    "Property 3: $\\alpha > \\beta$"
   ]
  },
  {
   "cell_type": "code",
   "execution_count": 71,
   "metadata": {
    "pycharm": {
     "is_executing": false,
     "name": "#%%\n"
    }
   },
   "outputs": [],
   "source": [
    "a3 = 1\n",
    "b3 = 1\n",
    "while a3 <= b3:\n",
    "    a3 = random.random()\n",
    "    b3 = random.random()\n",
    "\n",
    "case_3 = [np.random.beta(a3, b3) for x in range(0, sample_size)]"
   ]
  },
  {
   "cell_type": "markdown",
   "metadata": {
    "pycharm": {
     "name": "#%% md\n"
    }
   },
   "source": [
    "Property 4: Larger values of $\\alpha$ and $\\beta$ produce a more peaked distribution"
   ]
  },
  {
   "cell_type": "code",
   "execution_count": 72,
   "metadata": {
    "pycharm": {
     "is_executing": false,
     "name": "#%%\n"
    }
   },
   "outputs": [],
   "source": [
    "a4 = 5 # Probably have to change this\n",
    "b4 = 6\n",
    "\n",
    "case_4 = [np.random.beta(a4, b4) for x in range(0, sample_size)]"
   ]
  },
  {
   "cell_type": "markdown",
   "metadata": {
    "pycharm": {
     "name": "#%% md\n"
    }
   },
   "source": [
    "Generating plots"
   ]
  },
  {
   "cell_type": "code",
   "execution_count": 73,
   "metadata": {
    "pycharm": {
     "is_executing": false,
     "name": "#%%\n"
    }
   },
   "outputs": [],
   "source": [
    "x1 = [1 for x in range(0, sample_size)]\n",
    "x2 = [2 for x in range(0, sample_size)]\n",
    "x3 = [3 for x in range(0, sample_size)]\n",
    "x4 = [4 for x in range(0, sample_size)]"
   ]
  },
  {
   "cell_type": "markdown",
   "metadata": {
    "pycharm": {
     "name": "#%% md\n"
    }
   },
   "source": [
    "Below we demonstrate the differences between the four properties explained above of the beta-distribution.\n",
    "\n",
    "-   Case 1, where $\\alpha = \\beta = 1$, demonstrates a uniform distribution\n",
    "-   Case 2, where $\\alpha = \\beta \\neq 1$, demonstrates a symmetric distribution (concentrated towards limits)\n",
    "-   Case 3, where $\\alpha > \\beta$, demonstrates a distribution concentrated toward the upper limit of 1\n",
    "-   Case 4, where $\\alpha$ and $\\beta$ have large values, to get more peaked values (concentrated towards $\\frac{1}{2}$)"
   ]
  },
  {
   "cell_type": "code",
   "execution_count": 74,
   "metadata": {
    "pycharm": {
     "is_executing": false,
     "name": "#%%\n"
    }
   },
   "outputs": [
    {
     "data": {
      "text/plain": "<Figure size 432x288 with 1 Axes>",
      "image/png": "[encoded data removed]"
     },
     "metadata": {
      "needs_background": "light"
     },
     "output_type": "display_data"
    }
   ],
   "source": [
    "plt.scatter(x1+x2+x3+x4, case_1+case_2+case_3+case_4, alpha=1, c='red', edgecolors='none', s=10)\n",
    "plt.title('The four cases of the Beta Distribution as demonstrated above')\n",
    "plt.show()\n"
   ]
  },
  {
   "cell_type": "markdown",
   "metadata": {},
   "source": []
  },
  {
   "cell_type": "markdown",
   "metadata": {
    "pycharm": {
     "is_executing": false,
     "name": "#%% md\n"
    }
   },
   "source": [
    "Thompson Update Rule"
   ]
  },
  {
   "cell_type": "code",
   "execution_count": 75,
   "outputs": [],
   "source": [
    "# Get a Beta Distribution and applies the Thompson Update Rule\n",
    "def thompson_update_rule(alpha: float = 1, beta: float = 1) -> (int, int):\n",
    "    sample = np.random.beta(alpha, beta)              # Generate Probability\n",
    "    reward = bandit_sample(sample)                    # Get reward\n",
    "    return alpha+reward, beta+(1-reward)              # Amend Alpha and Beta values accordingly"
   ],
   "metadata": {
    "collapsed": false,
    "pycharm": {
     "name": "#%%\n",
     "is_executing": false
    }
   }
  },
  {
   "cell_type": "markdown",
   "metadata": {
    "pycharm": {
     "name": "#%% md\n"
    }
   },
   "source": [
    "Sample from a single arm, which gets a win/loss with probability $p$"
   ]
  },
  {
   "cell_type": "code",
   "execution_count": 76,
   "metadata": {
    "pycharm": {
     "is_executing": false,
     "name": "#%%\n"
    }
   },
   "outputs": [],
   "source": [
    "# returns reward depending on sample passed\n",
    "def bandit_sample(p: float) -> int:\n",
    "    return 1 if p > random.random() else 0"
   ]
  },
  {
   "cell_type": "markdown",
   "source": [
    "# Thompson Update Rule\n",
    "\n",
    "Computing the mean and variance of the Beta Distribution"
   ],
   "metadata": {
    "collapsed": false,
    "pycharm": {
     "name": "#%% md\n"
    }
   }
  },
  {
   "cell_type": "code",
   "execution_count": 77,
   "outputs": [],
   "source": [
    "def beta_mean(a: int, b: int) -> float:\n",
    "    return a / (a + b)\n",
    "\n",
    "def beta_var(a: int, b: int) -> float:\n",
    "    return (a * b) / (((a + b) ** 2) * (a + b + 1))"
   ],
   "metadata": {
    "collapsed": false,
    "pycharm": {
     "name": "#%%\n",
     "is_executing": false
    }
   }
  },
  {
   "cell_type": "markdown",
   "source": [
    "Collecting data for a sample of $s = 10000$"
   ],
   "metadata": {
    "collapsed": false,
    "pycharm": {
     "name": "#%% md\n"
    }
   }
  },
  {
   "cell_type": "code",
   "execution_count": 78,
   "outputs": [],
   "source": [
    "s = 20\n",
    "tuple_values = [(1, 1)]\n",
    "means = []\n",
    "std_s = []\n",
    "\n",
    "# initial state of alpha and beta... will be updated by every iteration using Thompson rule\n",
    "alpha = 1\n",
    "beta = 1\n",
    "means.append(beta_mean(alpha, beta))\n",
    "std_s.append(beta_var(alpha, beta))\n",
    "\n",
    "for _ in range(0, s):\n",
    "    alpha, beta = thompson_update_rule(alpha, beta)\n",
    "    tuple_values.append((alpha, beta))\n",
    "    means.append(beta_mean(alpha, beta))\n",
    "    std_s.append(beta_var(alpha, beta))\n"
   ],
   "metadata": {
    "collapsed": false,
    "pycharm": {
     "name": "#%%\n",
     "is_executing": false
    }
   }
  },
  {
   "cell_type": "markdown",
   "source": [
    "Plotting results"
   ],
   "metadata": {
    "collapsed": false,
    "pycharm": {
     "name": "#%% md\n"
    }
   }
  },
  {
   "cell_type": "code",
   "execution_count": 79,
   "outputs": [
    {
     "data": {
      "text/plain": "<Figure size 432x288 with 1 Axes>",
      "image/png": "[encoded data removed]"
     },
     "metadata": {
      "needs_background": "light"
     },
     "output_type": "display_data"
    }
   ],
   "source": [
    "plt.errorbar([x for x in range(0, len(means))], means, yerr=std_s, fmt='-o')\n",
    "plt.title('Evolution of mean and standard deviation')\n",
    "plt.show()"
   ],
   "metadata": {
    "collapsed": false,
    "pycharm": {
     "name": "#%%\n",
     "is_executing": false
    }
   }
  }
 ],
 "metadata": {
  "kernelspec": {
   "display_name": "Python 3",
   "language": "python",
   "name": "python3"
  },
  "language_info": {
   "codemirror_mode": {
    "name": "ipython",
    "version": 3
   },
   "file_extension": ".py",
   "mimetype": "text/x-python",
   "name": "python",
   "nbconvert_exporter": "python",
   "pygments_lexer": "ipython3",
   "version": "3.7.4"
  },
  "pycharm": {
   "stem_cell": {
    "cell_type": "raw",
    "source": [],
    "metadata": {
     "collapsed": false
    }
   }
  }
 },
 "nbformat": 4,
 "nbformat_minor": 1
}