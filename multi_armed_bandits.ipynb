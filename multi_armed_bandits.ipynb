{
 "cells": [
  {
   "cell_type": "markdown",
   "source": [
    "Imports"
   ],
   "metadata": {
    "collapsed": false
   }
  },
  {
   "cell_type": "code",
   "execution_count": 30,
   "outputs": [],
   "source": [
    "import random\n",
    "import numpy as np\n",
    "import matplotlib.pyplot as plt\n",
    "sample_size = 10"
   ],
   "metadata": {
    "collapsed": false,
    "pycharm": {
     "name": "#%%\n",
     "is_executing": false
    }
   }
  },
  {
   "cell_type": "markdown",
   "source": [
    "# Rules:\n",
    "- If $\\alpha$ = $\\beta$ = 1 then we have uniform distribution\n",
    "- If $\\alpha$ = $\\beta$     then we have a symmetric distribution, where x = 1/2\n",
    "- If $\\alpha$ > $\\beta$     then the density is right-leaning (concentrated in the neighbourhood of 1) the mean and variance will be able to be computed explicitly"
   ],
   "metadata": {
    "collapsed": false,
    "pycharm": {
     "name": "#%% md\n"
    }
   }
  },
  {
   "cell_type": "markdown",
   "source": [
    "# Beta-density plots\n",
    "Property 1: $\\alpha = \\beta = 1$"
   ],
   "metadata": {
    "collapsed": false,
    "pycharm": {
     "name": "#%% md\n"
    }
   }
  },
  {
   "cell_type": "code",
   "execution_count": 31,
   "outputs": [],
   "source": [
    "a1 = 1\n",
    "b1 = 1\n",
    "case_1 = [np.random.beta(a1, b1) for x in range(0, sample_size)]"
   ],
   "metadata": {
    "collapsed": false,
    "pycharm": {
     "name": "#%%\n",
     "is_executing": false
    }
   }
  },
  {
   "cell_type": "markdown",
   "source": [
    "Property 2: $\\alpha = \\beta \\neq 1$"
   ],
   "metadata": {
    "collapsed": false
   }
  },
  {
   "cell_type": "code",
   "execution_count": 32,
   "outputs": [],
   "source": [
    "r = random.random()\n",
    "while r == 1:\n",
    "    r = random.random()\n",
    "case_2 = [np.random.beta(r, r) for x in range(0, sample_size)]"
   ],
   "metadata": {
    "collapsed": false,
    "pycharm": {
     "name": "#%%\n",
     "is_executing": false
    }
   }
  },
  {
   "cell_type": "markdown",
   "source": [
    "Property 3: $\\alpha > \\beta$"
   ],
   "metadata": {
    "collapsed": false,
    "pycharm": {
     "name": "#%% md\n"
    }
   }
  },
  {
   "cell_type": "code",
   "execution_count": 33,
   "outputs": [],
   "source": [
    "a3 = 1\n",
    "b3 = 1\n",
    "while a3 <= b3:\n",
    "    a3 = random.random()\n",
    "    b3 = random.random()\n",
    "\n",
    "case_3 = [np.random.beta(a3, b3) for x in range(0, sample_size)]"
   ],
   "metadata": {
    "collapsed": false,
    "pycharm": {
     "name": "#%%\n",
     "is_executing": false
    }
   }
  },
  {
   "cell_type": "markdown",
   "source": [
    "Property 4: Larger values of $\\alpha$ and $\\beta$ produce a more peaked distribution"
   ],
   "metadata": {
    "collapsed": false,
    "pycharm": {
     "name": "#%% md\n"
    }
   }
  },
  {
   "cell_type": "code",
   "execution_count": 34,
   "outputs": [],
   "source": [
    "a4 = 5 # Probably have to change this\n",
    "b4 = 6\n",
    "\n",
    "case_4 = [np.random.beta(a4, b4) for x in range(0, sample_size)]"
   ],
   "metadata": {
    "collapsed": false,
    "pycharm": {
     "name": "#%%\n",
     "is_executing": false
    }
   }
  },
  {
   "cell_type": "markdown",
   "source": [
    "Generating plots"
   ],
   "metadata": {
    "collapsed": false,
    "pycharm": {
     "name": "#%% md\n"
    }
   }
  },
  {
   "cell_type": "code",
   "execution_count": 35,
   "outputs": [],
   "source": [
    "x1 = [1 for x in range(0, sample_size)]\n",
    "x2 = [2 for x in range(0, sample_size)]\n",
    "x3 = [3 for x in range(0, sample_size)]\n",
    "x4 = [4 for x in range(0, sample_size)]"
   ],
   "metadata": {
    "collapsed": false,
    "pycharm": {
     "name": "#%%\n",
     "is_executing": false
    }
   }
  },
  {
   "cell_type": "markdown",
   "source": [
    "Below we demonstrate the differences between the four properties explained above of the beta-distribution.\n",
    "\n",
    "-   Case 1, where $\\alpha = \\beta = 1$, demonstrates a uniform distribution\n",
    "-   Case 2, where $\\alpha = \\beta \\neq 1$, demonstrates a symmetric distribution (concentrated towards limits)\n",
    "-   Case 3, where $\\alpha > \\beta$, demonstrates a distribution concentrated toward the upper limit of 1\n",
    "-   Case 4, where $\\alpha$ and $\\beta$ have large values, to get more peaked values (concentrated towards $\\frac{1}{2}$)"
   ],
   "metadata": {
    "collapsed": false,
    "pycharm": {
     "name": "#%% md\n"
    }
   }
  },
  {
   "cell_type": "code",
   "execution_count": 41,
   "outputs": [
    {
     "data": {
      "text/plain": "<Figure size 432x288 with 1 Axes>",
      "image/png": "[encoded data removed]"
     },
     "metadata": {
      "needs_background": "light"
     },
     "output_type": "display_data"
    }
   ],
   "source": [
    "plt.scatter(x1+x2+x3+x4, case_1+case_2+case_3+case_4, alpha=1, c='red', edgecolors='none', s=10)\n",
    "plt.title('The four cases of the Beta Distribution as demonstrated above')\n",
    "plt.show()\n"
   ],
   "metadata": {
    "collapsed": false,
    "pycharm": {
     "name": "#%%\n",
     "is_executing": false
    }
   }
  },
  {
   "cell_type": "markdown",
   "source": [
    "# Thompson Update Rule\n"
   ],
   "metadata": {
    "collapsed": false
   }
  },
  {
   "cell_type": "code",
   "execution_count": 37,
   "outputs": [],
   "source": [
    "# Get a Beta Distribution and applies the Thompson Update Rule\n",
    "def thompson_update_rule(alpha: int = 1, beta: int = 1) -> (int, int):\n",
    "    sample = np.random.beta(alpha, beta)              # Generate Probability\n",
    "    reward = bandit_sample(sample)                    # Get reward\n",
    "    return alpha+reward, beta+(1-reward)              # Amend Alpha and Beta values accordingly"
   ],
   "metadata": {
    "collapsed": false,
    "pycharm": {
     "name": "#%%\n",
     "is_executing": false
    }
   }
  },
  {
   "cell_type": "markdown",
   "source": [
    "Sample from a single arm, which gets a win/loss with probability $p$"
   ],
   "metadata": {
    "collapsed": false,
    "pycharm": {
     "name": "#%% md\n"
    }
   }
  },
  {
   "cell_type": "code",
   "execution_count": null,
   "outputs": [],
   "source": [
    "# returns reward depending on sample passed\n",
    "def bandit_sample(p: float) -> int:\n",
    "    r = random.random()\n",
    "    return 1 if p > r else 0"
   ],
   "metadata": {
    "collapsed": false,
    "pycharm": {
     "name": "#%%\n"
    }
   }
  }
 ],
 "metadata": {
  "kernelspec": {
   "display_name": "Python 3",
   "language": "python",
   "name": "python3"
  },
  "language_info": {
   "codemirror_mode": {
    "name": "ipython",
    "version": 2
   },
   "file_extension": ".py",
   "mimetype": "text/x-python",
   "name": "python",
   "nbconvert_exporter": "python",
   "pygments_lexer": "ipython2",
   "version": "2.7.6"
  },
  "pycharm": {
   "stem_cell": {
    "cell_type": "raw",
    "source": [],
    "metadata": {
     "collapsed": false
    }
   }
  }
 },
 "nbformat": 4,
 "nbformat_minor": 0
}